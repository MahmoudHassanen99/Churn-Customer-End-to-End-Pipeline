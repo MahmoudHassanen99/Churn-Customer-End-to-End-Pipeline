{
 "cells": [
  {
   "cell_type": "code",
   "execution_count": 1,
   "id": "2469d5a4-b572-4c6d-b6d2-ac95ef555047",
   "metadata": {},
   "outputs": [],
   "source": [
    "from pyspark.sql import SparkSession\n",
    "spark = SparkSession.builder \\\n",
    "    .appName(\"KafkaSparkIntegration\") \\\n",
    "    .config(\"spark.jars.packages\", \"org.apache.spark:spark-sql-kafka-0-10_2.12:3.2.1\")\\\n",
    "    .getOrCreate()"
   ]
  },
  {
   "cell_type": "code",
   "execution_count": 8,
   "id": "9ce91e99-8a7e-480b-a744-2297ccd7c63a",
   "metadata": {},
   "outputs": [],
   "source": [
    "kafka_broker = \"172.24.16.1:9092\"\n",
    "kafka_topic = \"customer_Churn\"\n",
    "\n",
    "df = spark.readStream \\\n",
    "    .format(\"kafka\") \\\n",
    "    .option(\"kafka.bootstrap.servers\", kafka_broker) \\\n",
    "    .option(\"subscribe\", kafka_topic) \\\n",
    "    .load()\n",
    "# Convert the binary values to string\n",
    "#df = df.selectExpr(\"CAST(key AS STRING)\", \"CAST(value AS STRING)\")\n"
   ]
  },
  {
   "cell_type": "code",
   "execution_count": 4,
   "id": "7ea3b457-02fe-4c2b-8359-ebcdaa5236dd",
   "metadata": {},
   "outputs": [],
   "source": [
    "writer = df.writeStream \\\n",
    "    .outputMode(\"append\") \\\n",
    "    .format(\"memory\") \\\n",
    "    .queryName(\"stock1\") \\\n",
    "    .start()"
   ]
  },
  {
   "cell_type": "code",
   "execution_count": 13,
   "id": "c03f9f32-8a80-4698-ae6e-bc9073665176",
   "metadata": {},
   "outputs": [],
   "source": [
    "df_stream = spark.sql(\"select * from stock1\")"
   ]
  },
  {
   "cell_type": "code",
   "execution_count": 15,
   "id": "d470fbeb-c902-45a6-8c17-53ff27ba54d1",
   "metadata": {},
   "outputs": [
    {
     "name": "stdout",
     "output_type": "stream",
     "text": [
      "root\n",
      " |-- key: string (nullable = true)\n",
      " |-- value: string (nullable = true)\n",
      "\n",
      "+---+--------------------------------------------------------------------------------------------------------------------------------------------------------------------------------------------------------------------------------------------------------------------------+\n",
      "|key|value                                                                                                                                                                                                                                                                     |\n",
      "+---+--------------------------------------------------------------------------------------------------------------------------------------------------------------------------------------------------------------------------------------------------------------------------+\n",
      "|1  |{\"CustomerID\": \"651\", \"Age\": \"32\", \"Gender\": \"Female\", \"Tenure\": \"52\", \"Usage Frequency\": \"20\", \"Support Calls\": \"2\", \"Payment Delay\": \"28\", \"Subscription Type\": \"Standard\", \"Contract Length\": \"Quarterly\", \"Total Spend\": \"859\", \"Last Interaction\": \"3\", \"Churn\": \"0\"}|\n",
      "|1  |{\"CustomerID\": \"652\", \"Age\": \"56\", \"Gender\": \"Female\", \"Tenure\": \"46\", \"Usage Frequency\": \"30\", \"Support Calls\": \"0\", \"Payment Delay\": \"10\", \"Subscription Type\": \"Standard\", \"Contract Length\": \"Annual\", \"Total Spend\": \"924\", \"Last Interaction\": \"3\", \"Churn\": \"0\"}   |\n",
      "|1  |{\"CustomerID\": \"653\", \"Age\": \"42\", \"Gender\": \"Male\", \"Tenure\": \"40\", \"Usage Frequency\": \"12\", \"Support Calls\": \"0\", \"Payment Delay\": \"1\", \"Subscription Type\": \"Standard\", \"Contract Length\": \"Quarterly\", \"Total Spend\": \"858\", \"Last Interaction\": \"26\", \"Churn\": \"0\"}  |\n",
      "|1  |{\"CustomerID\": \"654\", \"Age\": \"50\", \"Gender\": \"Male\", \"Tenure\": \"47\", \"Usage Frequency\": \"14\", \"Support Calls\": \"9\", \"Payment Delay\": \"14\", \"Subscription Type\": \"Premium\", \"Contract Length\": \"Monthly\", \"Total Spend\": \"659\", \"Last Interaction\": \"26\", \"Churn\": \"0\"}    |\n",
      "|1  |{\"CustomerID\": \"655\", \"Age\": \"58\", \"Gender\": \"Male\", \"Tenure\": \"41\", \"Usage Frequency\": \"8\", \"Support Calls\": \"9\", \"Payment Delay\": \"4\", \"Subscription Type\": \"Standard\", \"Contract Length\": \"Annual\", \"Total Spend\": \"955\", \"Last Interaction\": \"19\", \"Churn\": \"0\"}      |\n",
      "|1  |{\"CustomerID\": \"656\", \"Age\": \"43\", \"Gender\": \"Female\", \"Tenure\": \"15\", \"Usage Frequency\": \"15\", \"Support Calls\": \"5\", \"Payment Delay\": \"22\", \"Subscription Type\": \"Standard\", \"Contract Length\": \"Annual\", \"Total Spend\": \"584\", \"Last Interaction\": \"15\", \"Churn\": \"0\"}  |\n",
      "|1  |{\"CustomerID\": \"657\", \"Age\": \"51\", \"Gender\": \"Female\", \"Tenure\": \"35\", \"Usage Frequency\": \"9\", \"Support Calls\": \"10\", \"Payment Delay\": \"19\", \"Subscription Type\": \"Basic\", \"Contract Length\": \"Monthly\", \"Total Spend\": \"686\", \"Last Interaction\": \"24\", \"Churn\": \"1\"}    |\n",
      "|1  |{\"CustomerID\": \"658\", \"Age\": \"36\", \"Gender\": \"Male\", \"Tenure\": \"55\", \"Usage Frequency\": \"30\", \"Support Calls\": \"6\", \"Payment Delay\": \"11\", \"Subscription Type\": \"Premium\", \"Contract Length\": \"Monthly\", \"Total Spend\": \"591\", \"Last Interaction\": \"13\", \"Churn\": \"0\"}    |\n",
      "|1  |{\"CustomerID\": \"659\", \"Age\": \"54\", \"Gender\": \"Male\", \"Tenure\": \"43\", \"Usage Frequency\": \"15\", \"Support Calls\": \"9\", \"Payment Delay\": \"15\", \"Subscription Type\": \"Standard\", \"Contract Length\": \"Annual\", \"Total Spend\": \"851\", \"Last Interaction\": \"1\", \"Churn\": \"0\"}     |\n",
      "|1  |{\"CustomerID\": \"660\", \"Age\": \"18\", \"Gender\": \"Female\", \"Tenure\": \"5\", \"Usage Frequency\": \"30\", \"Support Calls\": \"1\", \"Payment Delay\": \"15\", \"Subscription Type\": \"Standard\", \"Contract Length\": \"Annual\", \"Total Spend\": \"934\", \"Last Interaction\": \"21\", \"Churn\": \"0\"}   |\n",
      "|1  |{\"CustomerID\": \"661\", \"Age\": \"22\", \"Gender\": \"Female\", \"Tenure\": \"28\", \"Usage Frequency\": \"8\", \"Support Calls\": \"2\", \"Payment Delay\": \"8\", \"Subscription Type\": \"Premium\", \"Contract Length\": \"Annual\", \"Total Spend\": \"174\", \"Last Interaction\": \"14\", \"Churn\": \"0\"}     |\n",
      "|1  |{\"CustomerID\": \"662\", \"Age\": \"65\", \"Gender\": \"Male\", \"Tenure\": \"58\", \"Usage Frequency\": \"25\", \"Support Calls\": \"1\", \"Payment Delay\": \"23\", \"Subscription Type\": \"Premium\", \"Contract Length\": \"Annual\", \"Total Spend\": \"111\", \"Last Interaction\": \"17\", \"Churn\": \"0\"}     |\n",
      "|1  |{\"CustomerID\": \"663\", \"Age\": \"29\", \"Gender\": \"Male\", \"Tenure\": \"37\", \"Usage Frequency\": \"12\", \"Support Calls\": \"7\", \"Payment Delay\": \"22\", \"Subscription Type\": \"Standard\", \"Contract Length\": \"Monthly\", \"Total Spend\": \"369\", \"Last Interaction\": \"23\", \"Churn\": \"1\"}   |\n",
      "|1  |{\"CustomerID\": \"664\", \"Age\": \"29\", \"Gender\": \"Female\", \"Tenure\": \"23\", \"Usage Frequency\": \"17\", \"Support Calls\": \"0\", \"Payment Delay\": \"12\", \"Subscription Type\": \"Basic\", \"Contract Length\": \"Quarterly\", \"Total Spend\": \"601\", \"Last Interaction\": \"28\", \"Churn\": \"0\"}  |\n",
      "|1  |{\"CustomerID\": \"665\", \"Age\": \"24\", \"Gender\": \"Male\", \"Tenure\": \"39\", \"Usage Frequency\": \"4\", \"Support Calls\": \"2\", \"Payment Delay\": \"2\", \"Subscription Type\": \"Basic\", \"Contract Length\": \"Quarterly\", \"Total Spend\": \"861\", \"Last Interaction\": \"27\", \"Churn\": \"0\"}      |\n",
      "|1  |{\"CustomerID\": \"666\", \"Age\": \"56\", \"Gender\": \"Female\", \"Tenure\": \"43\", \"Usage Frequency\": \"19\", \"Support Calls\": \"6\", \"Payment Delay\": \"4\", \"Subscription Type\": \"Basic\", \"Contract Length\": \"Quarterly\", \"Total Spend\": \"306\", \"Last Interaction\": \"13\", \"Churn\": \"0\"}   |\n",
      "|1  |{\"CustomerID\": \"667\", \"Age\": \"19\", \"Gender\": \"Female\", \"Tenure\": \"10\", \"Usage Frequency\": \"5\", \"Support Calls\": \"3\", \"Payment Delay\": \"20\", \"Subscription Type\": \"Premium\", \"Contract Length\": \"Quarterly\", \"Total Spend\": \"536\", \"Last Interaction\": \"4\", \"Churn\": \"0\"}  |\n",
      "|1  |{\"CustomerID\": \"668\", \"Age\": \"60\", \"Gender\": \"Female\", \"Tenure\": \"16\", \"Usage Frequency\": \"12\", \"Support Calls\": \"8\", \"Payment Delay\": \"10\", \"Subscription Type\": \"Premium\", \"Contract Length\": \"Quarterly\", \"Total Spend\": \"855\", \"Last Interaction\": \"2\", \"Churn\": \"0\"} |\n",
      "|1  |{\"CustomerID\": \"669\", \"Age\": \"24\", \"Gender\": \"Female\", \"Tenure\": \"47\", \"Usage Frequency\": \"13\", \"Support Calls\": \"2\", \"Payment Delay\": \"28\", \"Subscription Type\": \"Premium\", \"Contract Length\": \"Monthly\", \"Total Spend\": \"833\", \"Last Interaction\": \"13\", \"Churn\": \"1\"}  |\n",
      "|1  |{\"CustomerID\": \"670\", \"Age\": \"59\", \"Gender\": \"Male\", \"Tenure\": \"13\", \"Usage Frequency\": \"2\", \"Support Calls\": \"9\", \"Payment Delay\": \"4\", \"Subscription Type\": \"Standard\", \"Contract Length\": \"Quarterly\", \"Total Spend\": \"758\", \"Last Interaction\": \"23\", \"Churn\": \"1\"}   |\n",
      "+---+--------------------------------------------------------------------------------------------------------------------------------------------------------------------------------------------------------------------------------------------------------------------------+\n",
      "only showing top 20 rows\n",
      "\n"
     ]
    }
   ],
   "source": [
    "df_stock1 = spark.sql(\"SELECT * FROM stock1\")\n",
    "df_stock1.printSchema()  # Check the schema of the DataFrame\n",
    "df_stock1.show(truncate=False)  # Display the data"
   ]
  },
  {
   "cell_type": "code",
   "execution_count": 17,
   "id": "7f3fea25-5fb2-4250-ba13-3891624bc784",
   "metadata": {},
   "outputs": [
    {
     "name": "stdout",
     "output_type": "stream",
     "text": [
      "+----------+---+------+------+--------------+------------+------------+----------------+--------------+----------+---------------+-----+\n",
      "|CustomerID|Age|Gender|Tenure|UsageFrequency|SupportCalls|PaymentDelay|SubscriptionType|ContractLength|TotalSpend|LastInteraction|Churn|\n",
      "+----------+---+------+------+--------------+------------+------------+----------------+--------------+----------+---------------+-----+\n",
      "|651       |32 |Female|52    |20            |2           |28          |Standard        |Quarterly     |859       |3              |0    |\n",
      "|652       |56 |Female|46    |30            |0           |10          |Standard        |Annual        |924       |3              |0    |\n",
      "|653       |42 |Male  |40    |12            |0           |1           |Standard        |Quarterly     |858       |26             |0    |\n",
      "|654       |50 |Male  |47    |14            |9           |14          |Premium         |Monthly       |659       |26             |0    |\n",
      "|655       |58 |Male  |41    |8             |9           |4           |Standard        |Annual        |955       |19             |0    |\n",
      "|656       |43 |Female|15    |15            |5           |22          |Standard        |Annual        |584       |15             |0    |\n",
      "|657       |51 |Female|35    |9             |10          |19          |Basic           |Monthly       |686       |24             |1    |\n",
      "|658       |36 |Male  |55    |30            |6           |11          |Premium         |Monthly       |591       |13             |0    |\n",
      "|659       |54 |Male  |43    |15            |9           |15          |Standard        |Annual        |851       |1              |0    |\n",
      "|660       |18 |Female|5     |30            |1           |15          |Standard        |Annual        |934       |21             |0    |\n",
      "|661       |22 |Female|28    |8             |2           |8           |Premium         |Annual        |174       |14             |0    |\n",
      "|662       |65 |Male  |58    |25            |1           |23          |Premium         |Annual        |111       |17             |0    |\n",
      "|663       |29 |Male  |37    |12            |7           |22          |Standard        |Monthly       |369       |23             |1    |\n",
      "|664       |29 |Female|23    |17            |0           |12          |Basic           |Quarterly     |601       |28             |0    |\n",
      "|665       |24 |Male  |39    |4             |2           |2           |Basic           |Quarterly     |861       |27             |0    |\n",
      "|666       |56 |Female|43    |19            |6           |4           |Basic           |Quarterly     |306       |13             |0    |\n",
      "|667       |19 |Female|10    |5             |3           |20          |Premium         |Quarterly     |536       |4              |0    |\n",
      "|668       |60 |Female|16    |12            |8           |10          |Premium         |Quarterly     |855       |2              |0    |\n",
      "|669       |24 |Female|47    |13            |2           |28          |Premium         |Monthly       |833       |13             |1    |\n",
      "|670       |59 |Male  |13    |2             |9           |4           |Standard        |Quarterly     |758       |23             |1    |\n",
      "+----------+---+------+------+--------------+------------+------------+----------------+--------------+----------+---------------+-----+\n",
      "only showing top 20 rows\n",
      "\n"
     ]
    }
   ],
   "source": [
    "schema = StructType([\n",
    "    StructField(\"CustomerID\", StringType(), True),\n",
    "    StructField(\"Age\", StringType(), True),\n",
    "    StructField(\"Gender\", StringType(), True),\n",
    "    StructField(\"Tenure\", StringType(), True),\n",
    "    StructField(\"Usage Frequency\", StringType(), True),\n",
    "    StructField(\"Support Calls\", StringType(), True),\n",
    "    StructField(\"Payment Delay\", StringType(), True),\n",
    "    StructField(\"Subscription Type\", StringType(), True),\n",
    "    StructField(\"Contract Length\", StringType(), True),\n",
    "    StructField(\"Total Spend\", StringType(), True),\n",
    "    StructField(\"Last Interaction\", StringType(), True),\n",
    "    StructField(\"Churn\", StringType(), True)\n",
    "])\n",
    "\n",
    "# Parse the JSON string in the 'value' column\n",
    "df_parsed = df_stream.withColumn(\"parsed_json\", from_json(col(\"value\"), schema))\n",
    "\n",
    "# Select each field from the parsed JSON\n",
    "df_final = df_parsed.select(\n",
    "    col(\"parsed_json.CustomerID\").alias(\"CustomerID\"),\n",
    "    col(\"parsed_json.Age\").alias(\"Age\"),\n",
    "    col(\"parsed_json.Gender\").alias(\"Gender\"),\n",
    "    col(\"parsed_json.Tenure\").alias(\"Tenure\"),\n",
    "    col(\"parsed_json.`Usage Frequency`\").alias(\"UsageFrequency\"),\n",
    "    col(\"parsed_json.`Support Calls`\").alias(\"SupportCalls\"),\n",
    "    col(\"parsed_json.`Payment Delay`\").alias(\"PaymentDelay\"),\n",
    "    col(\"parsed_json.`Subscription Type`\").alias(\"SubscriptionType\"),\n",
    "    col(\"parsed_json.`Contract Length`\").alias(\"ContractLength\"),\n",
    "    col(\"parsed_json.`Total Spend`\").alias(\"TotalSpend\"),\n",
    "    col(\"parsed_json.`Last Interaction`\").alias(\"LastInteraction\"),\n",
    "    col(\"parsed_json.Churn\").alias(\"Churn\")\n",
    ")\n",
    "\n",
    "# Show the final DataFrame\n",
    "df_final.show(truncate=False)"
   ]
  },
  {
   "cell_type": "code",
   "execution_count": null,
   "id": "5ad7f2cc-9575-462d-ba68-942e4be9a77c",
   "metadata": {},
   "outputs": [],
   "source": []
  }
 ],
 "metadata": {
  "kernelspec": {
   "display_name": "Python 3 (ipykernel)",
   "language": "python",
   "name": "python3"
  },
  "language_info": {
   "codemirror_mode": {
    "name": "ipython",
    "version": 3
   },
   "file_extension": ".py",
   "mimetype": "text/x-python",
   "name": "python",
   "nbconvert_exporter": "python",
   "pygments_lexer": "ipython3",
   "version": "3.9.13"
  }
 },
 "nbformat": 4,
 "nbformat_minor": 5
}
