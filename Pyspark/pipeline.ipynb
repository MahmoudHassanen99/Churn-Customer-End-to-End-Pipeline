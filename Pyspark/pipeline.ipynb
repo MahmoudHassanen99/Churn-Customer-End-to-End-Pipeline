{
 "cells": [
  {
   "cell_type": "code",
   "execution_count": 1,
   "id": "162794fe",
   "metadata": {},
   "outputs": [
    {
     "data": {
      "text/plain": [
       "'/usr/local/spark'"
      ]
     },
     "execution_count": 1,
     "metadata": {},
     "output_type": "execute_result"
    }
   ],
   "source": [
    "import findspark\n",
    "import os\n",
    "findspark.init()\n",
    "findspark.find()\n"
   ]
  },
  {
   "cell_type": "code",
   "execution_count": 4,
   "id": "a24276ed-d33b-4a83-b20b-48bd8589c886",
   "metadata": {},
   "outputs": [],
   "source": [
    "from pyspark.sql import SparkSession\n",
    "spark = SparkSession.builder \\\n",
    "    .appName(\"KafkaSparkIntegration\") \\\n",
    "    .config(\"spark.jars.packages\", \"org.apache.spark:spark-sql-kafka-0-10_2.12:3.4.1,com.microsoft.sqlserver:mssql-jdbc:9.4.0.jre8\") \\\n",
    "    .config(\"spark.hadoop.fs.defaultFS\", \"hdfs://namenode:9000\") \\\n",
    "    .getOrCreate()\n"
   ]
  },
  {
   "cell_type": "code",
   "execution_count": 5,
   "id": "f666d871",
   "metadata": {},
   "outputs": [
    {
     "data": {
      "text/html": [
       "\n",
       "            <div>\n",
       "                <p><b>SparkSession - in-memory</b></p>\n",
       "                \n",
       "        <div>\n",
       "            <p><b>SparkContext</b></p>\n",
       "\n",
       "            <p><a href=\"http://bb52048175cb:4040\">Spark UI</a></p>\n",
       "\n",
       "            <dl>\n",
       "              <dt>Version</dt>\n",
       "                <dd><code>v3.5.0</code></dd>\n",
       "              <dt>Master</dt>\n",
       "                <dd><code>local[*]</code></dd>\n",
       "              <dt>AppName</dt>\n",
       "                <dd><code>KafkaSparkIntegration</code></dd>\n",
       "            </dl>\n",
       "        </div>\n",
       "        \n",
       "            </div>\n",
       "        "
      ],
      "text/plain": [
       "<pyspark.sql.session.SparkSession at 0x7fa210308350>"
      ]
     },
     "execution_count": 5,
     "metadata": {},
     "output_type": "execute_result"
    }
   ],
   "source": [
    "spark\n"
   ]
  },
  {
   "cell_type": "code",
   "execution_count": 6,
   "id": "8c688300-445c-4470-82cb-08f268b8b5cc",
   "metadata": {},
   "outputs": [],
   "source": [
    "kafka_broker = \"44.213.123.145:9092\"\n",
    "kafka_topic = \"CustomerChurnProject\"\n",
    "\n",
    "df = spark.readStream \\\n",
    "    .format(\"kafka\") \\\n",
    "    .option(\"kafka.bootstrap.servers\", kafka_broker) \\\n",
    "    .option(\"subscribe\", kafka_topic) \\\n",
    "    .load()\n",
    "# Convert the binary values to string\n",
    "df = df.selectExpr(\"CAST(key AS STRING)\", \"CAST(value AS STRING)\")\n"
   ]
  },
  {
   "cell_type": "code",
   "execution_count": 7,
   "id": "58f3fa0c-afc8-40bf-8edc-568065c51f10",
   "metadata": {},
   "outputs": [],
   "source": [
    "writer = df.writeStream \\\n",
    "    .outputMode(\"append\") \\\n",
    "    .format(\"memory\") \\\n",
    "    .queryName(\"mystock2\") \\\n",
    "    .start()\n"
   ]
  },
  {
   "cell_type": "code",
   "execution_count": 8,
   "id": "fe8e9b00-73cc-458f-a42a-720e360730ff",
   "metadata": {},
   "outputs": [],
   "source": [
    "# writer.stop()\n"
   ]
  },
  {
   "cell_type": "code",
   "execution_count": 9,
   "id": "67d3adea-cf76-44be-abb3-d711862e25fa",
   "metadata": {},
   "outputs": [
    {
     "name": "stdout",
     "output_type": "stream",
     "text": [
      "True\n"
     ]
    }
   ],
   "source": [
    "is_streaming = df.isStreaming\n",
    "print(is_streaming)\n"
   ]
  },
  {
   "cell_type": "code",
   "execution_count": 10,
   "id": "3e49bf46-0cee-4929-bd5f-2479e2a7ba03",
   "metadata": {},
   "outputs": [
    {
     "name": "stdout",
     "output_type": "stream",
     "text": [
      "root\n",
      " |-- key: string (nullable = true)\n",
      " |-- value: string (nullable = true)\n",
      "\n"
     ]
    }
   ],
   "source": [
    "df_stock1 = spark.sql(\"SELECT * FROM mystock2\")\n",
    "df_stock1.printSchema()\n"
   ]
  },
  {
   "cell_type": "code",
   "execution_count": 30,
   "id": "f6199dcc-9f25-45ef-81bc-0494f39134a6",
   "metadata": {},
   "outputs": [
    {
     "name": "stdout",
     "output_type": "stream",
     "text": [
      "+---+---------------------------------------------------------------------------------------------------------------------------------------------------------------------------------------------------------------------------------------------------------------------------+\n",
      "|key|value                                                                                                                                                                                                                                                                      |\n",
      "+---+---------------------------------------------------------------------------------------------------------------------------------------------------------------------------------------------------------------------------------------------------------------------------+\n",
      "|1  |{\"CustomerID\": \"12603\", \"Age\": \"44\", \"Gender\": \"Male\", \"Tenure\": \"2\", \"Usage Frequency\": \"6\", \"Support Calls\": \"10\", \"Payment Delay\": \"27\", \"Subscription Type\": \"Basic\", \"Contract Length\": \"Annual\", \"Total Spend\": \"471\", \"Last Interaction\": \"6\", \"Churn\": \"0\"}        |\n",
      "|1  |{\"CustomerID\": \"324\", \"Age\": \"36\", \"Gender\": \"Male\", \"Tenure\": \"15\", \"Usage Frequency\": \"10\", \"Support Calls\": \"8\", \"Payment Delay\": \"0\", \"Subscription Type\": \"Standard\", \"Contract Length\": \"Annual\", \"Total Spend\": \"672\", \"Last Interaction\": \"2\", \"Churn\": \"0\"}       |\n",
      "|1  |{\"CustomerID\": \"12598\", \"Age\": \"47\", \"Gender\": \"Male\", \"Tenure\": \"26\", \"Usage Frequency\": \"20\", \"Support Calls\": \"2\", \"Payment Delay\": \"24\", \"Subscription Type\": \"Basic\", \"Contract Length\": \"Annual\", \"Total Spend\": \"843\", \"Last Interaction\": \"5\", \"Churn\": \"0\"}       |\n",
      "|1  |{\"CustomerID\": \"12317\", \"Age\": \"48\", \"Gender\": \"Female\", \"Tenure\": \"13\", \"Usage Frequency\": \"15\", \"Support Calls\": \"5\", \"Payment Delay\": \"24\", \"Subscription Type\": \"Basic\", \"Contract Length\": \"Quarterly\", \"Total Spend\": \"199\", \"Last Interaction\": \"1\", \"Churn\": \"1\"}  |\n",
      "|1  |{\"CustomerID\": \"271\", \"Age\": \"58\", \"Gender\": \"Male\", \"Tenure\": \"39\", \"Usage Frequency\": \"16\", \"Support Calls\": \"0\", \"Payment Delay\": \"8\", \"Subscription Type\": \"Basic\", \"Contract Length\": \"Monthly\", \"Total Spend\": \"690\", \"Last Interaction\": \"17\", \"Churn\": \"0\"}        |\n",
      "|1  |{\"CustomerID\": \"271\", \"Age\": \"58\", \"Gender\": \"Male\", \"Tenure\": \"39\", \"Usage Frequency\": \"16\", \"Support Calls\": \"0\", \"Payment Delay\": \"8\", \"Subscription Type\": \"Basic\", \"Contract Length\": \"Monthly\", \"Total Spend\": \"690\", \"Last Interaction\": \"17\", \"Churn\": \"0\"}        |\n",
      "|1  |{\"CustomerID\": \"183\", \"Age\": \"33\", \"Gender\": \"Female\", \"Tenure\": \"60\", \"Usage Frequency\": \"24\", \"Support Calls\": \"10\", \"Payment Delay\": \"18\", \"Subscription Type\": \"Premium\", \"Contract Length\": \"Monthly\", \"Total Spend\": \"423\", \"Last Interaction\": \"24\", \"Churn\": \"1\"}  |\n",
      "|1  |{\"CustomerID\": \"269\", \"Age\": \"30\", \"Gender\": \"Female\", \"Tenure\": \"42\", \"Usage Frequency\": \"15\", \"Support Calls\": \"8\", \"Payment Delay\": \"8\", \"Subscription Type\": \"Premium\", \"Contract Length\": \"Monthly\", \"Total Spend\": \"280\", \"Last Interaction\": \"20\", \"Churn\": \"0\"}    |\n",
      "|1  |{\"CustomerID\": \"12619\", \"Age\": \"34\", \"Gender\": \"Female\", \"Tenure\": \"51\", \"Usage Frequency\": \"16\", \"Support Calls\": \"10\", \"Payment Delay\": \"26\", \"Subscription Type\": \"Premium\", \"Contract Length\": \"Annual\", \"Total Spend\": \"203\", \"Last Interaction\": \"2\", \"Churn\": \"1\"}  |\n",
      "|1  |{\"CustomerID\": \"12604\", \"Age\": \"38\", \"Gender\": \"Male\", \"Tenure\": \"13\", \"Usage Frequency\": \"12\", \"Support Calls\": \"10\", \"Payment Delay\": \"14\", \"Subscription Type\": \"Premium\", \"Contract Length\": \"Quarterly\", \"Total Spend\": \"216\", \"Last Interaction\": \"7\", \"Churn\": \"0\"} |\n",
      "|1  |{\"CustomerID\": \"325\", \"Age\": \"23\", \"Gender\": \"Female\", \"Tenure\": \"39\", \"Usage Frequency\": \"11\", \"Support Calls\": \"2\", \"Payment Delay\": \"24\", \"Subscription Type\": \"Standard\", \"Contract Length\": \"Monthly\", \"Total Spend\": \"666\", \"Last Interaction\": \"25\", \"Churn\": \"1\"}  |\n",
      "|1  |{\"CustomerID\": \"12599\", \"Age\": \"45\", \"Gender\": \"Female\", \"Tenure\": \"40\", \"Usage Frequency\": \"25\", \"Support Calls\": \"4\", \"Payment Delay\": \"25\", \"Subscription Type\": \"Standard\", \"Contract Length\": \"Annual\", \"Total Spend\": \"745\", \"Last Interaction\": \"20\", \"Churn\": \"0\"} |\n",
      "|1  |{\"CustomerID\": \"12318\", \"Age\": \"58\", \"Gender\": \"Male\", \"Tenure\": \"7\", \"Usage Frequency\": \"3\", \"Support Calls\": \"4\", \"Payment Delay\": \"18\", \"Subscription Type\": \"Standard\", \"Contract Length\": \"Annual\", \"Total Spend\": \"897\", \"Last Interaction\": \"21\", \"Churn\": \"1\"}     |\n",
      "|1  |{\"CustomerID\": \"272\", \"Age\": \"63\", \"Gender\": \"Female\", \"Tenure\": \"56\", \"Usage Frequency\": \"28\", \"Support Calls\": \"1\", \"Payment Delay\": \"17\", \"Subscription Type\": \"Basic\", \"Contract Length\": \"Quarterly\", \"Total Spend\": \"821\", \"Last Interaction\": \"7\", \"Churn\": \"0\"}    |\n",
      "|1  |{\"CustomerID\": \"272\", \"Age\": \"63\", \"Gender\": \"Female\", \"Tenure\": \"56\", \"Usage Frequency\": \"28\", \"Support Calls\": \"1\", \"Payment Delay\": \"17\", \"Subscription Type\": \"Basic\", \"Contract Length\": \"Quarterly\", \"Total Spend\": \"821\", \"Last Interaction\": \"7\", \"Churn\": \"0\"}    |\n",
      "|1  |{\"CustomerID\": \"184\", \"Age\": \"20\", \"Gender\": \"Male\", \"Tenure\": \"5\", \"Usage Frequency\": \"22\", \"Support Calls\": \"8\", \"Payment Delay\": \"0\", \"Subscription Type\": \"Premium\", \"Contract Length\": \"Monthly\", \"Total Spend\": \"973\", \"Last Interaction\": \"25\", \"Churn\": \"0\"}       |\n",
      "|1  |{\"CustomerID\": \"270\", \"Age\": \"28\", \"Gender\": \"Female\", \"Tenure\": \"35\", \"Usage Frequency\": \"19\", \"Support Calls\": \"2\", \"Payment Delay\": \"2\", \"Subscription Type\": \"Premium\", \"Contract Length\": \"Monthly\", \"Total Spend\": \"506\", \"Last Interaction\": \"22\", \"Churn\": \"0\"}    |\n",
      "|1  |{\"CustomerID\": \"12620\", \"Age\": \"28\", \"Gender\": \"Female\", \"Tenure\": \"10\", \"Usage Frequency\": \"2\", \"Support Calls\": \"0\", \"Payment Delay\": \"12\", \"Subscription Type\": \"Premium\", \"Contract Length\": \"Quarterly\", \"Total Spend\": \"781\", \"Last Interaction\": \"13\", \"Churn\": \"0\"}|\n",
      "|1  |{\"CustomerID\": \"12605\", \"Age\": \"24\", \"Gender\": \"Male\", \"Tenure\": \"43\", \"Usage Frequency\": \"18\", \"Support Calls\": \"7\", \"Payment Delay\": \"24\", \"Subscription Type\": \"Standard\", \"Contract Length\": \"Annual\", \"Total Spend\": \"714\", \"Last Interaction\": \"4\", \"Churn\": \"1\"}    |\n",
      "|1  |{\"CustomerID\": \"326\", \"Age\": \"61\", \"Gender\": \"Male\", \"Tenure\": \"42\", \"Usage Frequency\": \"3\", \"Support Calls\": \"2\", \"Payment Delay\": \"24\", \"Subscription Type\": \"Standard\", \"Contract Length\": \"Monthly\", \"Total Spend\": \"525\", \"Last Interaction\": \"25\", \"Churn\": \"0\"}     |\n",
      "+---+---------------------------------------------------------------------------------------------------------------------------------------------------------------------------------------------------------------------------------------------------------------------------+\n",
      "only showing top 20 rows\n",
      "\n"
     ]
    }
   ],
   "source": [
    "df_stock1.show(truncate=False)  # Display the data\n"
   ]
  },
  {
   "cell_type": "code",
   "execution_count": 12,
   "id": "2a6388a9-3438-4ba4-9b34-1c81854f722b",
   "metadata": {},
   "outputs": [
    {
     "data": {
      "text/plain": [
       "False"
      ]
     },
     "execution_count": 12,
     "metadata": {},
     "output_type": "execute_result"
    }
   ],
   "source": [
    "df_stock1.isStreaming\n"
   ]
  },
  {
   "cell_type": "code",
   "execution_count": 13,
   "id": "29bb88b8-09c8-4eea-b34f-6ff2107743ed",
   "metadata": {},
   "outputs": [],
   "source": [
    "from pyspark.sql.types import *\n",
    "\n",
    "schema = StructType([\n",
    "    StructField(\"CustomerID\", StringType(), True),\n",
    "    StructField(\"Age\", StringType(), True),\n",
    "    StructField(\"Gender\", StringType(), True),\n",
    "    StructField(\"Tenure\", StringType(), True),\n",
    "    StructField(\"Usage Frequency\", StringType(), True),\n",
    "    StructField(\"Support Calls\", StringType(), True),\n",
    "    StructField(\"Payment Delay\", StringType(), True),\n",
    "    StructField(\"Subscription Type\", StringType(), True),\n",
    "    StructField(\"Contract Length\", StringType(), True),\n",
    "    StructField(\"Total Spend\", StringType(), True),\n",
    "    StructField(\"Last Interaction\", StringType(), True),\n",
    "    StructField(\"Churn\", StringType(), True)\n",
    "])\n"
   ]
  },
  {
   "cell_type": "code",
   "execution_count": 14,
   "id": "16809390-f7a8-4f9c-88bc-a7eeee56810b",
   "metadata": {},
   "outputs": [],
   "source": [
    "from pyspark.sql.functions import from_json, col\n",
    "\n",
    "df_parsed = df.selectExpr(\"CAST(value AS STRING) as value\") \\\n",
    "    .withColumn(\"parsed_json\", from_json(col(\"value\"), schema))\n"
   ]
  },
  {
   "cell_type": "code",
   "execution_count": 15,
   "id": "1caf6613-5029-4a2e-a999-b71bb76361b0",
   "metadata": {},
   "outputs": [],
   "source": [
    "df_final = df_parsed.select(\n",
    "    col(\"parsed_json.CustomerID\").alias(\"CustomerID\"),\n",
    "    col(\"parsed_json.Age\").alias(\"Age\"),\n",
    "    col(\"parsed_json.Gender\").alias(\"Gender\"),\n",
    "    col(\"parsed_json.Tenure\").alias(\"Tenure\"),\n",
    "    col(\"parsed_json.`Usage Frequency`\").alias(\"Usage Frequency\"),\n",
    "    col(\"parsed_json.`Support Calls`\").alias(\"Support Calls\"),\n",
    "    col(\"parsed_json.`Payment Delay`\").alias(\"Payment Delay\"),\n",
    "    col(\"parsed_json.`Subscription Type`\").alias(\"Subscription Type\"),\n",
    "    col(\"parsed_json.`Contract Length`\").alias(\"Contract Length\"),\n",
    "    col(\"parsed_json.`Total Spend`\").alias(\"Total Spend\"),\n",
    "    col(\"parsed_json.`Last Interaction`\").alias(\"Last Interaction\")\n",
    ")\n"
   ]
  },
  {
   "cell_type": "code",
   "execution_count": 16,
   "id": "20bbea12-64af-48de-ad92-5d78e0df29f6",
   "metadata": {},
   "outputs": [
    {
     "data": {
      "text/plain": [
       "True"
      ]
     },
     "execution_count": 16,
     "metadata": {},
     "output_type": "execute_result"
    }
   ],
   "source": [
    "df_final.isStreaming\n"
   ]
  },
  {
   "cell_type": "code",
   "execution_count": 17,
   "id": "af6c4ba2-5722-44bb-b302-aa7a42681ceb",
   "metadata": {},
   "outputs": [],
   "source": [
    "from pyspark.sql.functions import col\n",
    "from pyspark.sql.types import IntegerType, StringType, DoubleType\n",
    "\n",
    "typed_df = df_final.select(\n",
    "    col(\"CustomerID\").cast(IntegerType()).alias(\"CustomerID\"),\n",
    "    col(\"Age\").cast(IntegerType()).alias(\"Age\"),\n",
    "    col(\"Gender\").cast(StringType()).alias(\"Gender\"),\n",
    "    col(\"Tenure\").cast(IntegerType()).alias(\"Tenure\"),\n",
    "    col(\"Usage Frequency\").cast(IntegerType()).alias(\"Usage Frequency\"),\n",
    "    col(\"Support Calls\").cast(IntegerType()).alias(\"Support Calls\"),\n",
    "    col(\"Payment Delay\").cast(IntegerType()).alias(\"Payment Delay\"),\n",
    "    col(\"Subscription Type\").cast(StringType()).alias(\"Subscription Type\"),\n",
    "    col(\"Contract Length\").cast(StringType()).alias(\"Contract Length\"),\n",
    "    col(\"Total Spend\").cast(DoubleType()).alias(\"Total Spend\"),\n",
    "    col(\"Last Interaction\").cast(IntegerType()).alias(\"Last Interaction\")\n",
    ")\n"
   ]
  },
  {
   "cell_type": "code",
   "execution_count": 18,
   "id": "9a9ede1f-3f79-4250-a41b-854b29bef007",
   "metadata": {},
   "outputs": [
    {
     "data": {
      "text/plain": [
       "True"
      ]
     },
     "execution_count": 18,
     "metadata": {},
     "output_type": "execute_result"
    }
   ],
   "source": [
    "typed_df.isStreaming\n"
   ]
  },
  {
   "cell_type": "code",
   "execution_count": 19,
   "id": "83df9776-6aba-413d-b30f-9d7c28c5c737",
   "metadata": {},
   "outputs": [],
   "source": [
    "# spark.catalog.clearCache()\n"
   ]
  },
  {
   "cell_type": "code",
   "execution_count": 20,
   "id": "4fef0ee1-a2e7-4bd6-9e2d-d7bc5365022c",
   "metadata": {},
   "outputs": [],
   "source": [
    "from pyspark.ml import PipelineModel\n",
    "model = PipelineModel.load(\"class_model\")\n"
   ]
  },
  {
   "cell_type": "code",
   "execution_count": 21,
   "id": "28c94039-6db4-4574-a100-bf8b69053a91",
   "metadata": {},
   "outputs": [],
   "source": [
    "predictions = model.transform(typed_df)\n"
   ]
  },
  {
   "cell_type": "code",
   "execution_count": 22,
   "id": "496cc46a-770d-48e0-b401-f98064c6821e",
   "metadata": {},
   "outputs": [
    {
     "data": {
      "text/plain": [
       "True"
      ]
     },
     "execution_count": 22,
     "metadata": {},
     "output_type": "execute_result"
    }
   ],
   "source": [
    "predictions.isStreaming\n"
   ]
  },
  {
   "cell_type": "code",
   "execution_count": 23,
   "id": "b5efb6d7-99db-44bc-9b37-984e2d361022",
   "metadata": {},
   "outputs": [],
   "source": [
    "predictions.createOrReplaceTempView(\"t1\")\n"
   ]
  },
  {
   "cell_type": "code",
   "execution_count": 24,
   "id": "de15be96-ade5-4d8c-89ab-0512c499e154",
   "metadata": {},
   "outputs": [],
   "source": [
    "result_df =spark.sql(\"\"\"\n",
    "    SELECT \n",
    "        CustomerID,\n",
    "        Age,\n",
    "        Gender,\n",
    "        Tenure,\n",
    "        `Usage Frequency`,\n",
    "        `Support Calls`,\n",
    "        `Payment Delay`,\n",
    "        `Subscription Type`,\n",
    "        `Contract Length`,\n",
    "        `Total Spend`,\n",
    "        `Last Interaction`,\n",
    "        prediction \n",
    "    FROM t1\n",
    "\"\"\")\n"
   ]
  },
  {
   "cell_type": "code",
   "execution_count": 25,
   "id": "18c52acc-ad79-4251-9f6c-af3c251d1597",
   "metadata": {},
   "outputs": [
    {
     "name": "stdout",
     "output_type": "stream",
     "text": [
      "root\n",
      " |-- CustomerID: integer (nullable = true)\n",
      " |-- Age: integer (nullable = true)\n",
      " |-- Gender: string (nullable = true)\n",
      " |-- Tenure: integer (nullable = true)\n",
      " |-- Usage Frequency: integer (nullable = true)\n",
      " |-- Support Calls: integer (nullable = true)\n",
      " |-- Payment Delay: integer (nullable = true)\n",
      " |-- Subscription Type: string (nullable = true)\n",
      " |-- Contract Length: string (nullable = true)\n",
      " |-- Total Spend: double (nullable = true)\n",
      " |-- Last Interaction: integer (nullable = true)\n",
      " |-- prediction: double (nullable = false)\n",
      "\n"
     ]
    }
   ],
   "source": [
    "result_df.printSchema()\n"
   ]
  },
  {
   "cell_type": "code",
   "execution_count": 26,
   "id": "719017d1-93cd-4881-b7be-2374bd95e19c",
   "metadata": {},
   "outputs": [
    {
     "data": {
      "text/plain": [
       "True"
      ]
     },
     "execution_count": 26,
     "metadata": {},
     "output_type": "execute_result"
    }
   ],
   "source": [
    "result_df.isStreaming\n"
   ]
  },
  {
   "cell_type": "code",
   "execution_count": 27,
   "id": "1074f103-2335-4ab1-93f6-cba6c22e1a6d",
   "metadata": {},
   "outputs": [],
   "source": [
    "def write_to_sql_server(batch_df, batch_id):\n",
    "    try:\n",
    "        batch_df.write \\\n",
    "            .format(\"jdbc\") \\\n",
    "            .option(\"url\", \"jdbc:sqlserver://192.168.1.2:1433;databaseName=Customer_Churn;user=mahmoud;password=;\") \\\n",
    "            .option(\"dbtable\", \"CustomerData\") \\\n",
    "            .option(\"driver\", \"com.microsoft.sqlserver.jdbc.SQLServerDriver\") \\\n",
    "            .mode(\"append\")\\\n",
    "            .save()\n",
    "    except Exception as e:\n",
    "        print(str(e))\n",
    "        \n",
    "        \n",
    "        \n",
    "def write_to_sql_azure(batch_df, batch_id):\n",
    "    try:\n",
    "        batch_df.write \\\n",
    "            .format(\"jdbc\") \\\n",
    "            .option(\"url\", \"jdbc:sqlserver://server-sql-hassanen.database.windows.net:1433;databaseName=Customer_Churn;user=;password=;encrypt=true;trustServerCertificate=false;hostNameInCertificate=*.database.windows.net;loginTimeout=30;\") \\\n",
    "            .option(\"dbtable\", \"CustomerData\") \\\n",
    "            .option(\"driver\", \"com.microsoft.sqlserver.jdbc.SQLServerDriver\") \\\n",
    "            .mode(\"append\")\\\n",
    "            .save()\n",
    "    except Exception as e:\n",
    "        print(str(e))\n",
    "\n",
    "# # Start the stream and write to SQL Server\n",
    "result_df.writeStream \\\n",
    "    .foreachBatch(write_to_sql_server) \\\n",
    "    .start()\n",
    "\n",
    "\n",
    "# write raw backup to Azure SQL DB\n",
    "typed_df.writeStream \\\n",
    "    .foreachBatch(write_to_sql_azure) \\\n",
    "    .start()\n",
    "\n"
   ]
  },
  {
   "cell_type": "code",
   "execution_count": 28,
   "id": "a133430b-761c-41a3-958a-e176feee2952",
   "metadata": {},
   "outputs": [
    {
     "data": {
      "text/plain": [
       "True"
      ]
     },
     "execution_count": 28,
     "metadata": {},
     "output_type": "execute_result"
    }
   ],
   "source": [
    "result_df.isStreaming\n"
   ]
  },
  {
   "cell_type": "code",
   "execution_count": null,
   "id": "ab90dbc3-89dc-4e30-a0ae-6400d7900555",
   "metadata": {},
   "outputs": [],
   "source": [
    "#write to hadoop\n",
    "df_final_result = result_df.coalesce(1)\n",
    "hadoopquery = df_final_result.writeStream \\\n",
    "    .outputMode(\"append\") \\\n",
    "    .format(\"parquet\") \\\n",
    "    .option(\"path\", \"hdfs://namenode:9000/Data-Customer/\") \\\n",
    "    .option(\"checkpointLocation\", \"hdfs://namenode:9000/checkpoints-customer/\") \\\n",
    "    .trigger(processingTime='30 seconds') \\\n",
    "    .start()\n",
    "\n",
    "hadoopquery.awaitTermination()"
   ]
  }
 ],
 "metadata": {
  "kernelspec": {
   "display_name": "Python 3 (ipykernel)",
   "language": "python",
   "name": "python3"
  },
  "language_info": {
   "codemirror_mode": {
    "name": "ipython",
    "version": 3
   },
   "file_extension": ".py",
   "mimetype": "text/x-python",
   "name": "python",
   "nbconvert_exporter": "python",
   "pygments_lexer": "ipython3",
   "version": "3.11.6"
  }
 },
 "nbformat": 4,
 "nbformat_minor": 5
}
